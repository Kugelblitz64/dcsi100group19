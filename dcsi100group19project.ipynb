{
 "cells": [
  {
   "cell_type": "markdown",
   "id": "63569eb8-4af5-460f-998c-45501b1a183a",
   "metadata": {},
   "source": [
    "# Do Pulsars Clear Their Lines of Sight of Electrons?\n",
    "\n",
    "### DSCI 100-005 Group 19\n",
    "### Brett King, Samantha Malinab, Yinuo Sun, Athena Wong\n",
    "\n",
    "-----"
   ]
  },
  {
   "cell_type": "markdown",
   "id": "fc74b2d3-149d-49bf-98e9-e87d9bf14397",
   "metadata": {},
   "source": [
    "## The Plan\n",
    "\n",
    "1. Explain clearly what the variables in the dataset mean, and how we can use them to answer our question. Brett will try to create images to help with the explanation.\n",
    "2. Load in the dataset, and isolate the variables we need for the analysis.\n",
    "3. Use K nearest neighbours classification to see how well we can predict pulsars based on these variables.\n",
    "4. If the result is positive, see if we can convincingly argue that it's because the answer to our question is \"yes,\" and not caused by something else.\n",
    "\n",
    "-----"
   ]
  },
  {
   "cell_type": "markdown",
   "id": "76f437af-1340-4187-b44f-60461e7c864e",
   "metadata": {},
   "source": [
    "## Introduction\n",
    "\n",
    "When a massive star dies in a supernova explosion, it leaves its core behind as a super-compressed ball of neutrons called a neutron star. Neutron stars have an enormous magnetic field that produces polar jets of electromagnetic radiation. Neutron stars also spin very rapidly, so these jets trace out cone shapes as the star rotates. When Earth lies on one of these cones, we can observe the jet sweeping past Earth, and it appears as a pulsing star. Hence, these objects are called *pulsars*.\n",
    "\n",
    "![](https://github.com/Kugelblitz64/dcsi100group19/blob/main/PulsarGif.gif?raw=true)\n",
    "\n",
    "The Crab Nebula pulsar, seen near the centre. Gif from https://www.cloudynights.com/topic/285383-crab-nebulass-pulsar-is-blinking-not-a-joke/\n",
    "\n",
    "Individually, a measurement of a pulsar's pulse is weak and difficult to distinguish from background noise. However, taking a measurement for each rotation of the pulsar within a timespan then averaging the measurements yields a much clearer graph of signal strength over time. This graph is called the pulsar's *integrated profile*, and its shape is stable and unique to each pulsar.\n",
    "\n",
    "Additionally, each pulsar has a *dispersion measure*, or DM, which is a measurement of how dense free electrons are along the line of sight to the pulsar. The dispersion measure can be determined by how much the pulsar's signal is \"spread out\" before reaching Earth, and changes over time as it and Earth move through the galaxy. The signal-noise ratio, or SNR, of a pulse measurement depends on the pulsar's dispersion measure, and so each pulsar is assigned a signal-noise ratio versus dispersion measure (DM-SNR) graph.\n",
    "\n",
    "With this knowledge, we will investigate whether true pulsars clear their lines of sight of free electrons. To do this, we will use the HTRU2 dataset, which contains statistics regarding the two graphs discussed above for about 1600 true pulsars and 16000 false candidates.\n",
    "\n",
    "To better visualize the statistics contained in the dataset, we have created representations using Desmos. See the \"Extras\" section for these.\n",
    "\n",
    "-----"
   ]
  },
  {
   "cell_type": "markdown",
   "id": "d563f735-888e-4cfe-bbc4-3732c56851f7",
   "metadata": {},
   "source": [
    "## Methods and Results\n",
    "\n",
    "We first load in needed libraries and the dataset."
   ]
  },
  {
   "cell_type": "code",
   "execution_count": 2,
   "id": "7952512b-7549-4d54-a4a2-42b08c00fa5d",
   "metadata": {},
   "outputs": [
    {
     "name": "stderr",
     "output_type": "stream",
     "text": [
      "── \u001b[1mAttaching core tidyverse packages\u001b[22m ──────────────────────── tidyverse 2.0.0 ──\n",
      "\u001b[32m✔\u001b[39m \u001b[34mdplyr    \u001b[39m 1.1.3     \u001b[32m✔\u001b[39m \u001b[34mreadr    \u001b[39m 2.1.4\n",
      "\u001b[32m✔\u001b[39m \u001b[34mforcats  \u001b[39m 1.0.0     \u001b[32m✔\u001b[39m \u001b[34mstringr  \u001b[39m 1.5.0\n",
      "\u001b[32m✔\u001b[39m \u001b[34mggplot2  \u001b[39m 3.4.4     \u001b[32m✔\u001b[39m \u001b[34mtibble   \u001b[39m 3.2.1\n",
      "\u001b[32m✔\u001b[39m \u001b[34mlubridate\u001b[39m 1.9.3     \u001b[32m✔\u001b[39m \u001b[34mtidyr    \u001b[39m 1.3.0\n",
      "\u001b[32m✔\u001b[39m \u001b[34mpurrr    \u001b[39m 1.0.2     \n",
      "── \u001b[1mConflicts\u001b[22m ────────────────────────────────────────── tidyverse_conflicts() ──\n",
      "\u001b[31m✖\u001b[39m \u001b[34mdplyr\u001b[39m::\u001b[32mfilter()\u001b[39m masks \u001b[34mstats\u001b[39m::filter()\n",
      "\u001b[31m✖\u001b[39m \u001b[34mdplyr\u001b[39m::\u001b[32mlag()\u001b[39m    masks \u001b[34mstats\u001b[39m::lag()\n",
      "\u001b[36mℹ\u001b[39m Use the conflicted package (\u001b[3m\u001b[34m<http://conflicted.r-lib.org/>\u001b[39m\u001b[23m) to force all conflicts to become errors\n",
      "\u001b[1mRows: \u001b[22m\u001b[34m17898\u001b[39m \u001b[1mColumns: \u001b[22m\u001b[34m9\u001b[39m\n",
      "\u001b[36m──\u001b[39m \u001b[1mColumn specification\u001b[22m \u001b[36m────────────────────────────────────────────────────────\u001b[39m\n",
      "\u001b[1mDelimiter:\u001b[22m \",\"\n",
      "\u001b[32mdbl\u001b[39m (9): int_pro_mean, int_pro_std, int_pro_excess_kurtosis, int_pro_skew, d...\n",
      "\n",
      "\u001b[36mℹ\u001b[39m Use `spec()` to retrieve the full column specification for this data.\n",
      "\u001b[36mℹ\u001b[39m Specify the column types or set `show_col_types = FALSE` to quiet this message.\n"
     ]
    },
    {
     "data": {
      "text/html": [
       "<table class=\"dataframe\">\n",
       "<caption>A tibble: 17898 × 9</caption>\n",
       "<thead>\n",
       "\t<tr><th scope=col>int_pro_mean</th><th scope=col>int_pro_std</th><th scope=col>int_pro_excess_kurtosis</th><th scope=col>int_pro_skew</th><th scope=col>dm_snr_mean</th><th scope=col>dm_snr_std</th><th scope=col>dm_snr_excess_kurtosis</th><th scope=col>dm_snr_skew</th><th scope=col>class</th></tr>\n",
       "\t<tr><th scope=col>&lt;dbl&gt;</th><th scope=col>&lt;dbl&gt;</th><th scope=col>&lt;dbl&gt;</th><th scope=col>&lt;dbl&gt;</th><th scope=col>&lt;dbl&gt;</th><th scope=col>&lt;dbl&gt;</th><th scope=col>&lt;dbl&gt;</th><th scope=col>&lt;dbl&gt;</th><th scope=col>&lt;fct&gt;</th></tr>\n",
       "</thead>\n",
       "<tbody>\n",
       "\t<tr><td>140.5625</td><td>55.68378</td><td>-0.2345714</td><td>-0.6996484</td><td>3.199833</td><td>19.11043</td><td> 7.975532</td><td> 74.24222</td><td>0</td></tr>\n",
       "\t<tr><td>102.5078</td><td>58.88243</td><td> 0.4653182</td><td>-0.5150879</td><td>1.677258</td><td>14.86015</td><td>10.576487</td><td>127.39358</td><td>0</td></tr>\n",
       "\t<tr><td>103.0156</td><td>39.34165</td><td> 0.3233284</td><td> 1.0511644</td><td>3.121237</td><td>21.74467</td><td> 7.735822</td><td> 63.17191</td><td>0</td></tr>\n",
       "\t<tr><td>⋮</td><td>⋮</td><td>⋮</td><td>⋮</td><td>⋮</td><td>⋮</td><td>⋮</td><td>⋮</td><td>⋮</td></tr>\n",
       "\t<tr><td>119.3359</td><td>59.93594</td><td>0.1593631</td><td>-0.74302540</td><td> 21.430602</td><td>58.87200</td><td> 2.499517</td><td>  4.595173</td><td>0</td></tr>\n",
       "\t<tr><td>114.5078</td><td>53.90240</td><td>0.2011614</td><td>-0.02478884</td><td>  1.946488</td><td>13.38173</td><td>10.007967</td><td>134.238910</td><td>0</td></tr>\n",
       "\t<tr><td> 57.0625</td><td>85.79734</td><td>1.4063910</td><td> 0.08951971</td><td>188.306020</td><td>64.71256</td><td>-1.597527</td><td>  1.429475</td><td>0</td></tr>\n",
       "</tbody>\n",
       "</table>\n"
      ],
      "text/latex": [
       "A tibble: 17898 × 9\n",
       "\\begin{tabular}{lllllllll}\n",
       " int\\_pro\\_mean & int\\_pro\\_std & int\\_pro\\_excess\\_kurtosis & int\\_pro\\_skew & dm\\_snr\\_mean & dm\\_snr\\_std & dm\\_snr\\_excess\\_kurtosis & dm\\_snr\\_skew & class\\\\\n",
       " <dbl> & <dbl> & <dbl> & <dbl> & <dbl> & <dbl> & <dbl> & <dbl> & <fct>\\\\\n",
       "\\hline\n",
       "\t 140.5625 & 55.68378 & -0.2345714 & -0.6996484 & 3.199833 & 19.11043 &  7.975532 &  74.24222 & 0\\\\\n",
       "\t 102.5078 & 58.88243 &  0.4653182 & -0.5150879 & 1.677258 & 14.86015 & 10.576487 & 127.39358 & 0\\\\\n",
       "\t 103.0156 & 39.34165 &  0.3233284 &  1.0511644 & 3.121237 & 21.74467 &  7.735822 &  63.17191 & 0\\\\\n",
       "\t ⋮ & ⋮ & ⋮ & ⋮ & ⋮ & ⋮ & ⋮ & ⋮ & ⋮\\\\\n",
       "\t 119.3359 & 59.93594 & 0.1593631 & -0.74302540 &  21.430602 & 58.87200 &  2.499517 &   4.595173 & 0\\\\\n",
       "\t 114.5078 & 53.90240 & 0.2011614 & -0.02478884 &   1.946488 & 13.38173 & 10.007967 & 134.238910 & 0\\\\\n",
       "\t  57.0625 & 85.79734 & 1.4063910 &  0.08951971 & 188.306020 & 64.71256 & -1.597527 &   1.429475 & 0\\\\\n",
       "\\end{tabular}\n"
      ],
      "text/markdown": [
       "\n",
       "A tibble: 17898 × 9\n",
       "\n",
       "| int_pro_mean &lt;dbl&gt; | int_pro_std &lt;dbl&gt; | int_pro_excess_kurtosis &lt;dbl&gt; | int_pro_skew &lt;dbl&gt; | dm_snr_mean &lt;dbl&gt; | dm_snr_std &lt;dbl&gt; | dm_snr_excess_kurtosis &lt;dbl&gt; | dm_snr_skew &lt;dbl&gt; | class &lt;fct&gt; |\n",
       "|---|---|---|---|---|---|---|---|---|\n",
       "| 140.5625 | 55.68378 | -0.2345714 | -0.6996484 | 3.199833 | 19.11043 |  7.975532 |  74.24222 | 0 |\n",
       "| 102.5078 | 58.88243 |  0.4653182 | -0.5150879 | 1.677258 | 14.86015 | 10.576487 | 127.39358 | 0 |\n",
       "| 103.0156 | 39.34165 |  0.3233284 |  1.0511644 | 3.121237 | 21.74467 |  7.735822 |  63.17191 | 0 |\n",
       "| ⋮ | ⋮ | ⋮ | ⋮ | ⋮ | ⋮ | ⋮ | ⋮ | ⋮ |\n",
       "| 119.3359 | 59.93594 | 0.1593631 | -0.74302540 |  21.430602 | 58.87200 |  2.499517 |   4.595173 | 0 |\n",
       "| 114.5078 | 53.90240 | 0.2011614 | -0.02478884 |   1.946488 | 13.38173 | 10.007967 | 134.238910 | 0 |\n",
       "|  57.0625 | 85.79734 | 1.4063910 |  0.08951971 | 188.306020 | 64.71256 | -1.597527 |   1.429475 | 0 |\n",
       "\n"
      ],
      "text/plain": [
       "      int_pro_mean int_pro_std int_pro_excess_kurtosis int_pro_skew dm_snr_mean\n",
       "1     140.5625     55.68378    -0.2345714              -0.6996484   3.199833   \n",
       "2     102.5078     58.88243     0.4653182              -0.5150879   1.677258   \n",
       "3     103.0156     39.34165     0.3233284               1.0511644   3.121237   \n",
       "⋮     ⋮            ⋮           ⋮                       ⋮            ⋮          \n",
       "17896 119.3359     59.93594    0.1593631               -0.74302540   21.430602 \n",
       "17897 114.5078     53.90240    0.2011614               -0.02478884    1.946488 \n",
       "17898  57.0625     85.79734    1.4063910                0.08951971  188.306020 \n",
       "      dm_snr_std dm_snr_excess_kurtosis dm_snr_skew class\n",
       "1     19.11043    7.975532               74.24222   0    \n",
       "2     14.86015   10.576487              127.39358   0    \n",
       "3     21.74467    7.735822               63.17191   0    \n",
       "⋮     ⋮          ⋮                      ⋮           ⋮    \n",
       "17896 58.87200    2.499517                4.595173  0    \n",
       "17897 13.38173   10.007967              134.238910  0    \n",
       "17898 64.71256   -1.597527                1.429475  0    "
      ]
     },
     "metadata": {},
     "output_type": "display_data"
    }
   ],
   "source": [
    "# Load in the necessary libraries.\n",
    "library(tidyverse)\n",
    "library(repr)\n",
    "options(repr.matrix.max.rows = 6)\n",
    "\n",
    "# Load in the HTRU2 dataset.\n",
    "pulsar <- read_csv(url(\"https://raw.githubusercontent.com/Kugelblitz64/dcsi100group19/main/HTRU_2.csv\"),\n",
    "                   col_names = c(\"int_pro_mean\", \"int_pro_std\", \"int_pro_excess_kurtosis\", \"int_pro_skew\",\n",
    "                                 \"dm_snr_mean\", \"dm_snr_std\", \"dm_snr_excess_kurtosis\", \"dm_snr_skew\", \"class\")\n",
    "                   ) |>\n",
    "mutate(class = as_factor(class))\n",
    "pulsar"
   ]
  },
  {
   "cell_type": "markdown",
   "id": "7bde8abd-b98c-4b0a-aa23-1dbd0d309f14",
   "metadata": {},
   "source": [
    "## Extras\n",
    "\n",
    "Here are visualizations we created to help understand the data we used.\n",
    "\n",
    "<table><tr>\n",
    "<td> <img src=\"https://github.com/Kugelblitz64/dcsi100group19/blob/main/IntegratedProfileExample.png?raw=true\" style=\"width: 500px;\"/> </td>\n",
    "<td> <img src=\"https://github.com/Kugelblitz64/dcsi100group19/blob/main/DMSNRExample.png?raw=true\" style=\"width: 500px;\"/> </td>\n",
    "</tr></table>\n",
    "\n",
    "The means of each graph are marked in red. The mean is the average y value of the graph.\n",
    "\n",
    "The standard deviations are represented by the blue lines. It gives an idea of the \"width\" of where most values lie in the graph.\n",
    "\n",
    "The excess kurtosis is essentially a measurement of how much the graph jumps away from the mean.\n",
    "\n",
    "The skew is in essence a comparison between how much of the graph lies above the mean compared to below it. Positive skew indicates more of the graph lies above, negative skew indicates more of the graph lies below."
   ]
  },
  {
   "cell_type": "code",
   "execution_count": null,
   "id": "c63b7963-0dac-4f1e-b16d-4478b79d969f",
   "metadata": {},
   "outputs": [],
   "source": []
  }
 ],
 "metadata": {
  "kernelspec": {
   "display_name": "R",
   "language": "R",
   "name": "ir"
  },
  "language_info": {
   "codemirror_mode": "r",
   "file_extension": ".r",
   "mimetype": "text/x-r-source",
   "name": "R",
   "pygments_lexer": "r",
   "version": "4.3.1"
  }
 },
 "nbformat": 4,
 "nbformat_minor": 5
}
